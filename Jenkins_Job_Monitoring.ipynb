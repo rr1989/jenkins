{
 "cells": [
  {
   "cell_type": "markdown",
   "metadata": {},
   "source": [
    "# Jenkins Job Monitoring Script"
   ]
  },
  {
   "cell_type": "markdown",
   "metadata": {},
   "source": [
    "#### @author: Rakesh.Ranjan\n",
    "Created on Wed Jun 17 22:14:40 2020\n",
    "Updated on Tue Jun 30 15:53:55 2020"
   ]
  },
  {
   "cell_type": "markdown",
   "metadata": {},
   "source": [
    "### Import Lib"
   ]
  },
  {
   "cell_type": "code",
   "execution_count": 37,
   "metadata": {},
   "outputs": [],
   "source": [
    "import os\n",
    "import pandas as pd\n",
    "import requests\n",
    "import json\n",
    "import datetime as dt\n",
    "from colorama import Fore, Back, Style\n",
    "import time\n",
    "import concurrent.futures"
   ]
  },
  {
   "cell_type": "code",
   "execution_count": 38,
   "metadata": {},
   "outputs": [
    {
     "name": "stdout",
     "output_type": "stream",
     "text": [
      "2020-07-07 18:52:59.621792\n"
     ]
    }
   ],
   "source": [
    "#timestamp\n",
    "timstamp = dt.datetime.now()\n",
    "print(timstamp)"
   ]
  },
  {
   "cell_type": "code",
   "execution_count": 39,
   "metadata": {},
   "outputs": [
    {
     "name": "stdout",
     "output_type": "stream",
     "text": [
      "C:\\Users\\Rakesh.Ranjan\\Desktop\\Manheim\\Jenkins Job Monitoring\\25-06-2020\\Jenkins Job Monitoring\n"
     ]
    }
   ],
   "source": [
    "#current directory\n",
    "print(os.getcwd())"
   ]
  },
  {
   "cell_type": "markdown",
   "metadata": {},
   "source": [
    "#### index starts from 0. Find the position of your team name and assign the correct value to variable - 'i'"
   ]
  },
  {
   "cell_type": "code",
   "execution_count": 40,
   "metadata": {},
   "outputs": [
    {
     "data": {
      "text/plain": [
       "['DT%20-%20Accountable%20Gladiators',\n",
       " 'DT%20-%20DeltaForce',\n",
       " 'DT%20-%20Disruptors',\n",
       " 'DT%20-%20Transformers',\n",
       " 'DT-Chargers',\n",
       " 'DT-Equalizers',\n",
       " 'DT-OMG',\n",
       " 'DT-PayTheMan',\n",
       " 'DT-Req2Check']"
      ]
     },
     "execution_count": 40,
     "metadata": {},
     "output_type": "execute_result"
    }
   ],
   "source": [
    "sc_team_name = ['DT%20-%20Accountable%20Gladiators', 'DT%20-%20DeltaForce', 'DT%20-%20Disruptors', 'DT%20-%20Transformers', 'DT-Chargers', 'DT-Equalizers', 'DT-OMG', 'DT-PayTheMan', 'DT-Req2Check']\n",
    "sc_team_name"
   ]
  },
  {
   "cell_type": "markdown",
   "metadata": {},
   "source": [
    "#### Enter index of your Scrum Team.#'DT-Chargers' is placed at 5 th position.So its index is 5 - 1 = 4 "
   ]
  },
  {
   "cell_type": "code",
   "execution_count": 41,
   "metadata": {},
   "outputs": [],
   "source": [
    "i = 6 #7 #for Pay the man # 5 for Equalizers # 4 for CHargers "
   ]
  },
  {
   "cell_type": "code",
   "execution_count": 42,
   "metadata": {},
   "outputs": [],
   "source": [
    "scrum_team_name = sc_team_name[i]"
   ]
  },
  {
   "cell_type": "code",
   "execution_count": 43,
   "metadata": {},
   "outputs": [
    {
     "data": {
      "text/plain": [
       "'DT-OMG'"
      ]
     },
     "execution_count": 43,
     "metadata": {},
     "output_type": "execute_result"
    }
   ],
   "source": [
    "scrum_team_name"
   ]
  },
  {
   "cell_type": "markdown",
   "metadata": {},
   "source": [
    "### Fetch last N build details"
   ]
  },
  {
   "cell_type": "code",
   "execution_count": 44,
   "metadata": {},
   "outputs": [],
   "source": [
    "fetch_N_last_Jobs = 2"
   ]
  },
  {
   "cell_type": "markdown",
   "metadata": {},
   "source": [
    "### Storing extract into below mentioned excel files. "
   ]
  },
  {
   "cell_type": "code",
   "execution_count": 45,
   "metadata": {},
   "outputs": [],
   "source": [
    "#Failed_Jenkins_Job_filename = scrum_team_name + '_' + 'Failed_Jenkins_Job_stage' + '_' + str(timstamp).replace(' ', '_').replace(':', '-') + '.xlsx'\n",
    "jenkins_job_file_name = scrum_team_name + '_' + 'Jenkins_Job' + '_' + str(timstamp).replace(' ', '_').replace(':', '-') + '.xlsx'\n",
    "stage_Jenkins_Job_file_name = scrum_team_name + '_' + 'stage_Jenkins_Job' + '_' + str(timstamp).replace(' ', '_').replace(':', '-') + '.xlsx'\n",
    "dev_Jenkins_Job_file_name = scrum_team_name + '_' + 'dev_Jenkins_Job' + '_' + str(timstamp).replace(' ', '_').replace(':', '-') + '.xlsx'"
   ]
  },
  {
   "cell_type": "markdown",
   "metadata": {},
   "source": [
    "### creating an empty dataframe for storing summary of Jenkins Jobs"
   ]
  },
  {
   "cell_type": "code",
   "execution_count": 46,
   "metadata": {},
   "outputs": [],
   "source": [
    "column_names = [\"test_id\", \"fullDisplayName\", \"buildNumber\", \"result\", \"instance_name\",\"virtualMachine\", \"buildURL\", \"testComplete_or_console_ErrMessage\", \"testCompleteURL\", \"consoleLogPage\"]\n",
    "df_Jenkins_Aut_job = pd.DataFrame(columns = column_names)"
   ]
  },
  {
   "cell_type": "markdown",
   "metadata": {},
   "source": [
    "### command to extract all test folders of the respective SCRUM TEAM"
   ]
  },
  {
   "cell_type": "code",
   "execution_count": 47,
   "metadata": {},
   "outputs": [
    {
     "data": {
      "text/plain": [
       "<Response [200]>"
      ]
     },
     "execution_count": 47,
     "metadata": {},
     "output_type": "execute_result"
    }
   ],
   "source": [
    "scrum_team_url = 'https://testwin.epfin.coxautoinc.com/view/' + scrum_team_name + '/api/json'\n",
    "resp_tc_folder = requests.get(scrum_team_url)\n",
    "resp_tc_folder"
   ]
  },
  {
   "cell_type": "markdown",
   "metadata": {},
   "source": [
    "### Find Total number of Test Folders  "
   ]
  },
  {
   "cell_type": "code",
   "execution_count": 48,
   "metadata": {},
   "outputs": [
    {
     "name": "stdout",
     "output_type": "stream",
     "text": [
      "test_folder_count: 6\n"
     ]
    }
   ],
   "source": [
    "test_folder_count = len(resp_tc_folder.json()['jobs'])\n",
    "print('test_folder_count:',test_folder_count)"
   ]
  },
  {
   "cell_type": "markdown",
   "metadata": {},
   "source": [
    "### display test folder name "
   ]
  },
  {
   "cell_type": "code",
   "execution_count": 49,
   "metadata": {},
   "outputs": [
    {
     "name": "stdout",
     "output_type": "stream",
     "text": [
      "O2I - Change_Client_Number_CBS\n",
      "O2I - Invoice_Bulk_Upload\n",
      "O2I - OM Reporting\n",
      "O2I - Order Import (AS400 Integration)\n",
      "O2I-AR Invoice Request Set\n",
      "O2I_OM_Order_Bulk_Upload\n"
     ]
    }
   ],
   "source": [
    "for i in range(test_folder_count):\n",
    "    print(resp_tc_folder.json()['jobs'][i]['name'])\n",
    "    "
   ]
  },
  {
   "cell_type": "code",
   "execution_count": 50,
   "metadata": {},
   "outputs": [
    {
     "name": "stdout",
     "output_type": "stream",
     "text": [
      "execute the main logic to get build details of Jenkins test case\n",
      "\u001b[32m*********************\n",
      "\u001b[0m\n",
      "\u001b[42mtest folder name: O2I - Change_Client_Number_CBS\n",
      "\u001b[0m\n",
      "\u001b[42mtest-case name: tc186422_cbs_change_seller\n",
      "\u001b[0m\n",
      "\u001b[32m*********************\n",
      "\u001b[0m\n",
      "\u001b[42mbuild number: 152\n",
      "\u001b[42minstance name: stage\n",
      "\u001b[42mtc_error_message: None\n",
      "\u001b[0m\n",
      "\u001b[41mbuild number: 151\n",
      "\u001b[41minstance name: dev\n",
      "\u001b[41mtc_error_message: SQL failed to return data - expand log messages for SQL query details\n",
      "\u001b[0m\n",
      "\u001b[32m*********************\n",
      "\u001b[0m\n",
      "\u001b[42mtest folder name: O2I - Change_Client_Number_CBS\n",
      "\u001b[0m\n",
      "\u001b[42mtest-case name: tc186423_cbs_change_buyer\n",
      "\u001b[0m\n",
      "\u001b[32m*********************\n",
      "\u001b[0m\n",
      "\u001b[42mbuild number: 95\n",
      "\u001b[42minstance name: stage\n",
      "\u001b[42mtc_error_message: None\n",
      "\u001b[0m\n",
      "\u001b[41mbuild number: 94\n",
      "\u001b[41minstance name: dev\n",
      "\u001b[41mtc_error_message: SQL failed to return data - expand log messages for SQL query details\n",
      "\u001b[0m\n",
      "\u001b[32m*********************\n",
      "\u001b[0m\n",
      "\u001b[42mtest folder name: O2I - Invoice_Bulk_Upload\n",
      "\u001b[0m\n",
      "\u001b[42mtest-case name: tc186424_upload_service_order\n",
      "\u001b[0m\n",
      "\u001b[32m*********************\n",
      "\u001b[0m\n",
      "\u001b[42mbuild number: 119\n",
      "\u001b[42minstance name: stage\n",
      "\u001b[42mtc_error_message: None\n",
      "\u001b[0m\n",
      "\u001b[41mbuild number: 118\n",
      "\u001b[41minstance name: stage\n",
      "\u001b[41mtc_error_message: The object does not exist. See Additional Information for details.\n",
      "\u001b[0m\n",
      "\u001b[32m*********************\n",
      "\u001b[0m\n",
      "\u001b[42mtest folder name: O2I - OM Reporting\n",
      "\u001b[0m\n",
      "\u001b[42mtest-case name: tc84676_ng_seller_side_recon_report\n",
      "\u001b[0m\n",
      "\u001b[32m*********************\n",
      "\u001b[0m\n",
      "\u001b[42mbuild number: 131\n",
      "\u001b[42minstance name: stage\n",
      "\u001b[42mtc_error_message: None\n",
      "\u001b[0m\n",
      "\u001b[41mbuild number: 130\n",
      "\u001b[41minstance name: dev\n",
      "\u001b[41mtc_error_message: Traceback (most recent call last):   File \"<aq:tc84676_ng_seller_side_recon_report>\", line 36, in main TypeError: object of type 'NoneType' has no len()\n",
      "\u001b[0m\n",
      "\u001b[32m*********************\n",
      "\u001b[0m\n",
      "\u001b[41mtest folder name: O2I - Order Import (AS400 Integration)\n",
      "\u001b[0m\n",
      "\u001b[41mFailed - last build for test-case name: tc108967_validate_psi_passed\n",
      "\u001b[0m\n",
      "\u001b[32m*********************\n",
      "\u001b[0m\n",
      "\u001b[41mbuild number: 178\n",
      "\u001b[41minstance name: dev\n",
      "\u001b[41mtc_error_message: PSI Status:  validation failed for consignment_id 16628510 !!!\n",
      "\u001b[0m\n",
      "\u001b[42mbuild number: 177\n",
      "\u001b[42minstance name: stage\n",
      "\u001b[42mtc_error_message: None\n",
      "\u001b[0m\n",
      "\u001b[32m*********************\n",
      "\u001b[0m\n",
      "\u001b[41mtest folder name: O2I - Order Import (AS400 Integration)\n",
      "\u001b[0m\n",
      "\u001b[41mFailed - last build for test-case name: tc119855_validate_5M_buyer_seller_assurance\n",
      "\u001b[0m\n",
      "\u001b[32m*********************\n",
      "\u001b[0m\n",
      "\u001b[41mbuild number: 162\n",
      "\u001b[41minstance name: dev\n",
      "\u001b[41mtc_error_message: Traceback (most recent call last):   File \"<aq:tc119855_validate_5M_buyer_seller_assurance>\", line 45, in main TypeError: object of type 'NoneType' has no len()\n",
      "\u001b[0m\n",
      "\u001b[42mbuild number: 161\n",
      "\u001b[42minstance name: stage\n",
      "\u001b[42mtc_error_message: None\n",
      "\u001b[0m\n",
      "\u001b[32m*********************\n",
      "\u001b[0m\n",
      "\u001b[41mtest folder name: O2I - Order Import (AS400 Integration)\n",
      "\u001b[0m\n",
      "\u001b[41mFailed - last build for test-case name: tc179892_validate_ng_seller_side_sf_process\n",
      "\u001b[0m\n",
      "\u001b[32m*********************\n",
      "\u001b[0m\n",
      "\u001b[41mbuild number: 139\n",
      "\u001b[41minstance name: dev\n",
      "\u001b[41mtc_error_message: SQL failed to return data - expand log messages for SQL query details\n",
      "\u001b[0m\n",
      "\u001b[42mbuild number: 138\n",
      "\u001b[42minstance name: stage\n",
      "\u001b[42mtc_error_message: None\n",
      "\u001b[0m\n",
      "\u001b[32m*********************\n",
      "\u001b[0m\n",
      "\u001b[42mtest folder name: O2I - Order Import (AS400 Integration)\n",
      "\u001b[0m\n",
      "\u001b[42mtest-case name: tc181967_validate_redeemed_order\n",
      "\u001b[0m\n",
      "\u001b[32m*********************\n",
      "\u001b[0m\n",
      "\u001b[42mbuild number: 138\n",
      "\u001b[42minstance name: stage\n",
      "\u001b[42mtc_error_message: None\n",
      "\u001b[0m\n",
      "\u001b[41mbuild number: 137\n",
      "\u001b[41minstance name: dev\n",
      "\u001b[41mtc_error_message: Sale Date: 14-May-2020 13:39:33 validation failed for consignment_id 16628536 !!!\n",
      "\u001b[0m\n",
      "\u001b[32m*********************\n",
      "\u001b[0m\n",
      "\u001b[41mtest folder name: O2I - Order Import (AS400 Integration)\n",
      "\u001b[0m\n",
      "\u001b[41mFailed - last build for test-case name: tc49536_employee_order\n",
      "\u001b[0m\n",
      "\u001b[32m*********************\n",
      "\u001b[0m\n",
      "\u001b[41mbuild number: 17\n",
      "\u001b[41minstance name: dev\n",
      "\u001b[41mtc_error_message: Order Type US EMPLOYEE is not found\n",
      "\u001b[0m\n",
      "\u001b[42mbuild number: 16\n",
      "\u001b[42minstance name: stage\n",
      "\u001b[42mtc_error_message: None\n",
      "\u001b[0m\n",
      "\u001b[32m*********************\n",
      "\u001b[0m\n",
      "\u001b[42mtest folder name: O2I - Order Import (AS400 Integration)\n",
      "\u001b[0m\n",
      "\u001b[42mtest-case name: tc49538_validate_pay_the_operator\n",
      "\u001b[0m\n",
      "\u001b[32m*********************\n",
      "\u001b[0m\n",
      "\u001b[42mbuild number: 144\n",
      "\u001b[42minstance name: stage\n",
      "\u001b[42mtc_error_message: None\n",
      "\u001b[0m\n",
      "\u001b[41mbuild number: 143\n",
      "\u001b[41minstance name: dev\n",
      "\u001b[41mtc_error_message: The object does not exist. See Additional Information for details.\n",
      "\u001b[0m\n",
      "\u001b[32m*********************\n",
      "\u001b[0m\n",
      "\u001b[41mtest folder name: O2I - Order Import (AS400 Integration)\n",
      "\u001b[0m\n",
      "\u001b[41mFailed - last build for test-case name: tc49539_validate_pay_the_remarketer\n",
      "\u001b[0m\n",
      "\u001b[32m*********************\n",
      "\u001b[0m\n",
      "\u001b[41mbuild number: 124\n",
      "\u001b[41minstance name: dev\n",
      "\u001b[41mtc_error_message: The object does not exist. See Additional Information for details.\n",
      "\u001b[0m\n",
      "\u001b[42mbuild number: 123\n",
      "\u001b[42minstance name: stage\n",
      "\u001b[42mtc_error_message: None\n",
      "\u001b[0m\n",
      "\u001b[32m*********************\n",
      "\u001b[0m\n",
      "\u001b[41mtest folder name: O2I-AR Invoice Request Set\n",
      "\u001b[0m\n",
      "\u001b[41mFailed - last build for test-case name: tc115500_run_autoinvoice_rs\n",
      "\u001b[0m\n",
      "\u001b[32m*********************\n",
      "\u001b[0m\n",
      "\u001b[41mbuild number: 222\n",
      "\u001b[41minstance name: dev\n",
      "\u001b[41mtc_error_message: Traceback (most recent call last):   File \"<aq:tc115500_run_autoinvoice_rs>\", line 37, in main   File \"<aq:ar_common_utility>\", line 19, in check_if_order_invoicing_ready TypeError: int() argument must be a string, a bytes-like object or a number, not 'NoneType'\n",
      "\u001b[0m\n",
      "\u001b[42mbuild number: 221\n",
      "\u001b[42minstance name: stage\n",
      "\u001b[42mtc_error_message: None\n",
      "\u001b[0m\n",
      "\u001b[32m*********************\n",
      "\u001b[0m\n",
      "\u001b[41mtest folder name: O2I-AR Invoice Request Set\n",
      "\u001b[0m\n",
      "\u001b[41mFailed - last build for test-case name: tc120888_validate_invoice_header_lines_dist\n",
      "\u001b[0m\n",
      "\u001b[32m*********************\n",
      "\u001b[0m\n",
      "\u001b[41mbuild number: 183\n",
      "\u001b[41minstance name: dev\n",
      "\u001b[41mtc_error_message: SQL failed to return data - expand log messages for SQL query details\n",
      "\u001b[0m\n",
      "\u001b[42mbuild number: 182\n",
      "\u001b[42minstance name: stage\n",
      "\u001b[42mtc_error_message: None\n",
      "\u001b[0m\n",
      "\u001b[32m*********************\n",
      "\u001b[0m\n",
      "\u001b[42mtest folder name: O2I-AR Invoice Request Set\n",
      "\u001b[0m\n",
      "\u001b[42mtest-case name: tc160618_inv_val_directsales_seller_holds\n",
      "\u001b[0m\n",
      "\u001b[32m*********************\n",
      "\u001b[0m\n",
      "\u001b[42mbuild number: 111\n",
      "\u001b[42minstance name: stage\n",
      "\u001b[42mtc_error_message: None\n",
      "\u001b[0m\n",
      "\u001b[41mbuild number: 110\n",
      "\u001b[41minstance name: dev\n",
      "\u001b[41mtc_error_message: SQL failed to return data - expand log messages for SQL query details\n",
      "\u001b[0m\n",
      "\u001b[32m*********************\n",
      "\u001b[0m\n",
      "\u001b[41mtest folder name: O2I-AR Invoice Request Set\n",
      "\u001b[0m\n",
      "\u001b[41mFailed - last build for test-case name: tc163850_inv_val_directsales_release_hold\n",
      "\u001b[0m\n",
      "\u001b[32m*********************\n",
      "\u001b[0m\n",
      "\u001b[41mbuild number: 120\n",
      "\u001b[41minstance name: dev\n",
      "\u001b[41mtc_error_message: SQL failed to return data - expand log messages for SQL query details\n",
      "\u001b[0m\n",
      "\u001b[42mbuild number: 119\n",
      "\u001b[42minstance name: stage\n",
      "\u001b[42mtc_error_message: None\n",
      "\u001b[0m\n",
      "\u001b[32m*********************\n",
      "\u001b[0m\n",
      "\u001b[42mtest folder name: O2I_OM_Order_Bulk_Upload\n",
      "\u001b[0m\n",
      "\u001b[42mtest-case name: tc143330_boat_blank_temp_requestor\n",
      "\u001b[0m\n",
      "\u001b[32m*********************\n",
      "\u001b[0m\n",
      "\u001b[42mbuild number: 102\n",
      "\u001b[42minstance name: stage\n",
      "\u001b[42mtc_error_message: None\n",
      "\u001b[0m\n",
      "\u001b[41mbuild number: 101\n",
      "\u001b[41minstance name: stage\n",
      "\u001b[41mtc_error_message: SQL failed to return data - expand log messages for SQL query details\n",
      "\u001b[0m\n",
      "\u001b[32m*********************\n",
      "\u001b[0m\n",
      "\u001b[42mtest folder name: O2I_OM_Order_Bulk_Upload\n",
      "\u001b[0m\n",
      "\u001b[42mtest-case name: tc143641_boat_blank_temp_approver\n",
      "\u001b[0m\n",
      "\u001b[32m*********************\n",
      "\u001b[0m\n",
      "\u001b[42mbuild number: 36\n",
      "\u001b[42minstance name: stage\n",
      "\u001b[42mtc_error_message: None\n",
      "\u001b[0m\n",
      "\u001b[41mbuild number: 35\n",
      "\u001b[41minstance name: stage\n",
      "\u001b[41mtc_error_message: The object does not exist. See Additional Information for details.\n",
      "\u001b[0m\n",
      "Now execute the command to store result into flat files\n"
     ]
    }
   ],
   "source": [
    "start = time.time()\n",
    "print('execute the main logic to get build details of Jenkins test case')\n",
    "for tc_fl in range(test_folder_count): \n",
    "#'O2I- Sales Tax Vertex', 'O2I - Invoice Format'etc.\n",
    "  #print('test folder name:',resp_tc_folder.json()['jobs'][tc_fl]['name'])\n",
    "    \n",
    "  tc_folder_url = resp_tc_folder.json()['jobs'][tc_fl]['url'] + 'api/json'\n",
    "  resp_tc_folder_url = requests.get(tc_folder_url)\n",
    "  jsonRes = resp_tc_folder_url.json()# To get response dictionary as JSON\n",
    "  \n",
    "  # loop count = number of testcase inside the folder\n",
    "  test_case_count = len(jsonRes['jobs'])\n",
    "  #print('test_case_count:',test_case_count)\n",
    "\n",
    "  for i in range(0,test_case_count):\n",
    "     suffix = 'api/json'\n",
    "     url = jsonRes['jobs'][i]['url'] + suffix\n",
    "     tc_url = requests.get(url)\n",
    "     color_of_tes_case = jsonRes['jobs'][i]['color']\n",
    "     \n",
    "     if color_of_tes_case in ['red','blue']:\n",
    "         \n",
    "         print(Fore.GREEN + '*********************')\n",
    "         print(Style.RESET_ALL)\n",
    "         \n",
    "         if color_of_tes_case == 'red':\n",
    "             \n",
    "            print(Back.RED + 'test folder name:',resp_tc_folder.json()['jobs'][tc_fl]['name'])\n",
    "            print(Style.RESET_ALL)\n",
    "            print(Back.RED + 'Failed - last build for test-case name:', jsonRes['jobs'][i]['name'])\n",
    "            print(Style.RESET_ALL)\n",
    "         else:\n",
    "\n",
    "            print(Back.GREEN + 'test folder name:',resp_tc_folder.json()['jobs'][tc_fl]['name'])\n",
    "            print(Style.RESET_ALL)\n",
    "            print(Back.GREEN + 'test-case name:', jsonRes['jobs'][i]['name'])\n",
    "            print(Style.RESET_ALL)          \n",
    "     \n",
    "         print(Fore.GREEN + '*********************')\n",
    "         print(Style.RESET_ALL) \n",
    "         #print('back to normal now') \n",
    "\n",
    "         df_Jenkins_Aut_job = df_Jenkins_Aut_job.append({\n",
    "                   \"test_id\": None,\n",
    "                   \"fullDisplayName\": None,\n",
    "                   \"buildNumber\": None,\n",
    "                   \"result\": None,\n",
    "                   \"instance_name\":None,\n",
    "                   \"virtualMachine\": None,\n",
    "                   \"buildURL\": None,\n",
    "                   \"testComplete_or_console_ErrMessage\": None,\n",
    "                   \"testCompleteURL\": None,\n",
    "                   \"consoleLogPage\":None}, ignore_index = True)    \n",
    "         \n",
    "         #fetching details of last 2 build details \n",
    "         if len(tc_url.json()['builds']) > 2:\n",
    "             lc_builds = fetch_N_last_Jobs\n",
    "         else:\n",
    "             lc_builds = len(tc_url.json()['builds'])\n",
    "                \n",
    "         #build loop  \n",
    "         for last_4_build in range(0,lc_builds):\n",
    "             buildNumber_Seq = tc_url.json()['builds'][last_4_build]['number']\n",
    "             buildURL_Seq = tc_url.json()['builds'][last_4_build]['url']\n",
    "             \n",
    "             json_url= buildURL_Seq +'api/json'\n",
    "             \n",
    "             #command to get details of the test case build\n",
    "             tc_bulk_details = requests.get(json_url)\n",
    "             \n",
    "             #'********details of test case build*********'\n",
    "             test_id = jsonRes['jobs'][i]['name'].split('_')[0]\n",
    "             fullDisplayName = tc_bulk_details.json()['fullDisplayName']\n",
    "             buildNumber = tc_bulk_details.json()['number']\n",
    "             testResult = tc_bulk_details.json()['result']\n",
    "             virtualMachine = tc_bulk_details.json()['builtOn']\n",
    "             instance_name = virtualMachine.split('-')[0]\n",
    "             buildURL = tc_bulk_details.json()['url']\n",
    "             consoleTextURL = tc_bulk_details.json()['url'] + 'consoleText'\n",
    "             \n",
    "             #'****logic to get error message from consoletext\n",
    "             try:\n",
    "                 if testResult == 'FAILURE':\n",
    "                   console = requests.get( buildURL + 'consoleText/api/json')\n",
    "                   s = console.text\n",
    "                   start = s.find(\"ERROR [SoapUIProTestCaseRunner]\") + len(\"ERROR [SoapUIProTestCaseRunner]\")\n",
    "                   end_string = \"INFO  [log] \" + test_id[2: ]\n",
    "                   end = s.find(end_string)\n",
    "                   console_err_msg = s[start: end]\n",
    "                 else:\n",
    "                    console_err_msg = None  \n",
    "             except:\n",
    "                   console_err_msg = 'Not able to get the console error message'\n",
    "                   \n",
    "             # '****logic to get error_message for TestComplete Automation********'\n",
    "             try:\n",
    "                 if testResult == 'FAILURE':\n",
    "                   test_comp_job_url = buildURL + 'TestComplete/api/json'\n",
    "                   resp_test_comp_job_url = requests.get(test_comp_job_url)\n",
    "                   tc_error_message = resp_test_comp_job_url.json()['reports'][0]['error']\n",
    "                   test_comp_url = resp_test_comp_job_url.json()['reports'][0]['url'] \n",
    "                    \n",
    "                   if tc_error_message == \"\":\n",
    "                               start_tc = s.find(\"[TestComplete] [ERROR]\") + len(\"[TestComplete] [ERROR]\")\n",
    "                               end_tc =  s.find(\"Finished: FAILURE\")\n",
    "                               tc_error_message = s[start_tc: end_tc]                        \n",
    "\n",
    "                 else:\n",
    "                     test_comp_job_url = buildURL + 'TestComplete/api/json'\n",
    "                     resp_test_comp_job_url = requests.get(test_comp_job_url)\n",
    "                     test_comp_url = resp_test_comp_job_url.json()['reports'][0]['url']\n",
    "                     tc_error_message  = None      \n",
    "             except:\n",
    "                   tc_error_message = console_err_msg\n",
    "                   test_comp_url = 'No TestComplete URL for this test case '\n",
    "             finally: \n",
    "                   #populate empty dataframe to store failed job detailsand keep appending new records\n",
    "                   df_Jenkins_Aut_job = df_Jenkins_Aut_job.append({\n",
    "                   \"test_id\": test_id,\n",
    "                   \"fullDisplayName\": fullDisplayName,\n",
    "                   \"buildNumber\": buildNumber,\n",
    "                   \"result\": testResult,\n",
    "                   \"instance_name\":instance_name,\n",
    "                   \"virtualMachine\": virtualMachine,\n",
    "                   \"buildURL\": buildURL,\n",
    "                   \"testComplete_or_console_ErrMessage\": tc_error_message,\n",
    "                   \"testCompleteURL\": test_comp_url,\n",
    "                   \"consoleLogPage\":consoleTextURL\n",
    "                   }, ignore_index = True)\n",
    "                   \n",
    "                   if testResult == 'FAILURE':\n",
    "                        print(Back.RED + 'build number:',buildNumber)\n",
    "                        print(Back.RED + 'instance name:',instance_name)\n",
    "                        print(Back.RED + 'tc_error_message:',tc_error_message)\n",
    "                        print(Style.RESET_ALL)\n",
    "                   else:\n",
    "                        print(Back.GREEN + 'build number:',buildNumber)\n",
    "                        print(Back.GREEN + 'instance name:',instance_name)\n",
    "                        print(Back.GREEN + 'tc_error_message:',tc_error_message)\n",
    "                        print(Style.RESET_ALL)\n",
    " \n",
    "finish = time.time()\n",
    "#print(\"Time taken : {} secs\".format(finish - start))\n",
    "print(\"Now execute the command to store result into flat files\")                   "
   ]
  },
  {
   "cell_type": "markdown",
   "metadata": {},
   "source": [
    "### Directory where you are storing the Jenkins Report"
   ]
  },
  {
   "cell_type": "code",
   "execution_count": 51,
   "metadata": {},
   "outputs": [
    {
     "name": "stdout",
     "output_type": "stream",
     "text": [
      "C:\\Users\\Rakesh.Ranjan\\Desktop\\Manheim\\Jenkins Job Monitoring\\25-06-2020\\Jenkins Job Monitoring\n"
     ]
    }
   ],
   "source": [
    "os.chdir(\"C:\\\\Users\\\\Rakesh.Ranjan\\\\Desktop\\\\Manheim\\\\Jenkins Job Monitoring\\\\25-06-2020\\\\Jenkins Job Monitoring\")\n",
    "print(os.getcwd())"
   ]
  },
  {
   "cell_type": "code",
   "execution_count": 52,
   "metadata": {},
   "outputs": [
    {
     "name": "stdout",
     "output_type": "stream",
     "text": [
      "Open file -  DT-OMG_Jenkins_Job_2020-07-07_18-52-59.621792.xlsx  to see Jenkins job details\n"
     ]
    }
   ],
   "source": [
    "df_Jenkins_Aut_job.to_excel(jenkins_job_file_name)\n",
    "df_Jenkins_Aut_job[df_Jenkins_Aut_job['instance_name'] =='stage'].to_excel(stage_Jenkins_Job_file_name)\n",
    "df_Jenkins_Aut_job[df_Jenkins_Aut_job['instance_name'] =='dev'].to_excel(dev_Jenkins_Job_file_name)\n",
    "print('Open file -  ' + jenkins_job_file_name + '  to see Jenkins job details')"
   ]
  },
  {
   "cell_type": "code",
   "execution_count": null,
   "metadata": {},
   "outputs": [],
   "source": []
  },
  {
   "cell_type": "code",
   "execution_count": null,
   "metadata": {},
   "outputs": [],
   "source": []
  }
 ],
 "metadata": {
  "kernelspec": {
   "display_name": "Python 3",
   "language": "python",
   "name": "python3"
  },
  "language_info": {
   "codemirror_mode": {
    "name": "ipython",
    "version": 3
   },
   "file_extension": ".py",
   "mimetype": "text/x-python",
   "name": "python",
   "nbconvert_exporter": "python",
   "pygments_lexer": "ipython3",
   "version": "3.7.6"
  }
 },
 "nbformat": 4,
 "nbformat_minor": 4
}
